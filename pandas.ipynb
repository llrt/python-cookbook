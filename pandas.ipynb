{
 "cells": [
  {
   "cell_type": "code",
   "execution_count": 27,
   "metadata": {},
   "outputs": [],
   "source": [
    "import pandas as pd # by convention, \"pd\" alias is used for pandas\n",
    "import numpy as np # by convention, \"np\" alias is used for numpy"
   ]
  },
  {
   "cell_type": "markdown",
   "metadata": {},
   "source": [
    "#### Series\n",
    "\n",
    "A Series is an array (numpy-like) with corresponding index"
   ]
  },
  {
   "cell_type": "code",
   "execution_count": 28,
   "metadata": {},
   "outputs": [
    {
     "name": "stdout",
     "output_type": "stream",
     "text": [
      "0    1\n",
      "1    2\n",
      "2    3\n",
      "3    4\n",
      "4    5\n",
      "5   -2\n",
      "6    2\n",
      "7    3\n",
      "8   -1\n",
      "9    0\n",
      "dtype: int64\n",
      "series values:  [ 1  2  3  4  5 -2  2  3 -1  0]\n",
      "series index:  RangeIndex(start=0, stop=10, step=1)\n",
      "series frequency table (\"value counts\"): \n",
      "  2    2\n",
      " 3    2\n",
      " 1    1\n",
      " 4    1\n",
      " 5    1\n",
      "-2    1\n",
      "-1    1\n",
      " 0    1\n",
      "dtype: int64\n",
      "series min/max value:  (-2, 5)\n",
      "sorted series:  [-2 -1  0  1  2  2  3  3  4  5]\n"
     ]
    }
   ],
   "source": [
    "s1 = pd.Series([1, 2, 3, 4, 5, -2, 2, 3, -1, 0]) # create simple series\n",
    "print(s1) # print whole series\n",
    "print('series values: ', s1.values) # series' values\n",
    "print('series index: ', s1.index) # series' index - as nothing was specified, integer range was used\n",
    "print('series frequency table (\"value counts\"): \\n', s1.value_counts()) # series' frequency table\n",
    "\n",
    "# other numpy methods also work\n",
    "print('series min/max value: ', (np.min(s1.values), np.max(s1.values)) ) # max value from series\n",
    "print('sorted series: ', np.sort(s1.values))\n"
   ]
  },
  {
   "cell_type": "code",
   "execution_count": 29,
   "metadata": {},
   "outputs": [
    {
     "name": "stdout",
     "output_type": "stream",
     "text": [
      "a0    1\n",
      "a1    2\n",
      "a2    3\n",
      "a3    4\n",
      "a4    5\n",
      "a5   -2\n",
      "a6    2\n",
      "a7    3\n",
      "a8   -1\n",
      "a9    0\n",
      "dtype: int64\n",
      "[ 1  2  3  4  5 -2  2  3 -1  0]\n",
      "Index(['a0', 'a1', 'a2', 'a3', 'a4', 'a5', 'a6', 'a7', 'a8', 'a9'], dtype='object')\n"
     ]
    }
   ],
   "source": [
    "s1_s = pd.Series([1, 2, 3, 4, 5, -2, 2, 3, -1, 0], \n",
    "    index=['a0', 'a1', 'a2', 'a3', 'a4', 'a5', 'a6', 'a7', 'a8', 'a9']) # create series with string index\n",
    "## IMPORTANT: length of index vector  MUST match values' length\n",
    "print(s1_s) # print whole series\n",
    "print(s1_s.values) # series' values\n",
    "print(s1_s.index) # series' index"
   ]
  },
  {
   "cell_type": "markdown",
   "metadata": {},
   "source": [
    "##### Once series is created, we can make complex indexing with it"
   ]
  },
  {
   "cell_type": "code",
   "execution_count": 34,
   "metadata": {},
   "outputs": [
    {
     "name": "stdout",
     "output_type": "stream",
     "text": [
      "s1: \n",
      " 0    1\n",
      "1    2\n",
      "2    3\n",
      "3    4\n",
      "4    5\n",
      "5   -2\n",
      "6    2\n",
      "7    3\n",
      "8   -1\n",
      "9    0\n",
      "dtype: int64\n",
      "s1 positive elements: \n",
      " 0    1\n",
      "1    2\n",
      "2    3\n",
      "3    4\n",
      "4    5\n",
      "6    2\n",
      "7    3\n",
      "dtype: int64\n",
      "s1 even elements: \n",
      " 1    2\n",
      "3    4\n",
      "5   -2\n",
      "6    2\n",
      "9    0\n",
      "dtype: int64\n"
     ]
    }
   ],
   "source": [
    "print('s1: \\n', s1)\n",
    "print('s1 positive elements: \\n', s1[s1 > 0]) # only values that are > 0\n",
    "print('s1 even elements: \\n', s1[s1%2==0]) # only even numbers (including negative ones)"
   ]
  },
  {
   "cell_type": "code",
   "execution_count": null,
   "metadata": {},
   "outputs": [],
   "source": []
  }
 ],
 "metadata": {
  "interpreter": {
   "hash": "2cda5e89d300e6d5fb6b34b6e3491144d729dc598c3843ce8d389a05c36c4101"
  },
  "kernelspec": {
   "display_name": "Python 3.8.10 64-bit ('venv': venv)",
   "name": "python3"
  },
  "language_info": {
   "codemirror_mode": {
    "name": "ipython",
    "version": 3
   },
   "file_extension": ".py",
   "mimetype": "text/x-python",
   "name": "python",
   "nbconvert_exporter": "python",
   "pygments_lexer": "ipython3",
   "version": "3.8.10"
  },
  "orig_nbformat": 4
 },
 "nbformat": 4,
 "nbformat_minor": 2
}
