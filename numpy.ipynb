{
 "cells": [
  {
   "cell_type": "code",
   "execution_count": 1,
   "metadata": {},
   "outputs": [],
   "source": [
    "import numpy as np # by convention, \"np\" alias is used"
   ]
  },
  {
   "cell_type": "markdown",
   "metadata": {},
   "source": [
    "### Arrays"
   ]
  },
  {
   "cell_type": "markdown",
   "metadata": {},
   "source": [
    "#### Initialization"
   ]
  },
  {
   "cell_type": "code",
   "execution_count": 2,
   "metadata": {},
   "outputs": [
    {
     "name": "stdout",
     "output_type": "stream",
     "text": [
      "[1 2 3 4 5 6]\n",
      "(6,)\n",
      "[[ 1  2  4]\n",
      " [ 1  3  9]\n",
      " [ 1  4 16]]\n"
     ]
    }
   ],
   "source": [
    "# array creation can be done with list initialization\n",
    "a = np.array([1, 2, 3, 4, 5, 6]) # 1-d array (vector) \n",
    "print(a)\n",
    "print(a.shape) # array dimensions\n",
    "\n",
    "a2 = np.array([[1, 2, 2**2], [1, 3, 3**2], [1, 4, 4**2]]) # 2-d array (matrix) is initialized with list of lists\n",
    "print(a2)"
   ]
  },
  {
   "cell_type": "code",
   "execution_count": 3,
   "metadata": {},
   "outputs": [
    {
     "name": "stdout",
     "output_type": "stream",
     "text": [
      "[0. 0. 0. 0. 0. 0.]\n",
      "[1. 1. 1. 1. 1. 1.]\n"
     ]
    }
   ],
   "source": [
    "zeros_1d = np.zeros((6,)) # iniialize vector with zeroes\n",
    "ones_1d = np.ones((6,)) # initialize vector with ones\n",
    "print(zeros_1d)\n",
    "print(ones_1d)"
   ]
  },
  {
   "cell_type": "code",
   "execution_count": 4,
   "metadata": {},
   "outputs": [
    {
     "name": "stdout",
     "output_type": "stream",
     "text": [
      "[[0. 0. 0.]\n",
      " [0. 0. 0.]\n",
      " [0. 0. 0.]\n",
      " [0. 0. 0.]\n",
      " [0. 0. 0.]\n",
      " [0. 0. 0.]]\n",
      "[[1. 1. 1.]\n",
      " [1. 1. 1.]\n",
      " [1. 1. 1.]\n",
      " [1. 1. 1.]\n",
      " [1. 1. 1.]\n",
      " [1. 1. 1.]]\n"
     ]
    }
   ],
   "source": [
    "zeros_2d = np.zeros((6,3)) # iniialize 2-d array with zeroes\n",
    "ones_2d = np.ones((6,3)) # initialize 2-d array with ones\n",
    "print(zeros_2d)\n",
    "print(ones_2d)"
   ]
  },
  {
   "cell_type": "code",
   "execution_count": 5,
   "metadata": {},
   "outputs": [
    {
     "data": {
      "text/plain": [
       "array([ 0,  1,  2,  3,  4,  5,  6,  7,  8,  9, 10, 11, 12, 13, 14, 15, 16,\n",
       "       17, 18, 19, 20, 21, 22, 23, 24, 25, 26, 27, 28, 29])"
      ]
     },
     "execution_count": 5,
     "metadata": {},
     "output_type": "execute_result"
    }
   ],
   "source": [
    "np.arange(30) # integer range vector"
   ]
  },
  {
   "cell_type": "code",
   "execution_count": 6,
   "metadata": {},
   "outputs": [
    {
     "data": {
      "text/plain": [
       "array([ 0.,  5., 10., 15., 20.])"
      ]
     },
     "execution_count": 6,
     "metadata": {},
     "output_type": "execute_result"
    }
   ],
   "source": [
    "np.linspace(0, 20, num=5) # linearly spaced vector"
   ]
  },
  {
   "cell_type": "code",
   "execution_count": 7,
   "metadata": {},
   "outputs": [
    {
     "name": "stdout",
     "output_type": "stream",
     "text": [
      "[0.78173036 0.37717091 0.6211822  0.51138779 0.58512409 0.4170872\n",
      " 0.46946354 0.02314114 0.70794652 0.87110705]\n",
      "[[0.97684411 0.31371009 0.75738868]\n",
      " [0.64344279 0.39757735 0.45004398]\n",
      " [0.37014382 0.09052218 0.92571866]]\n"
     ]
    }
   ],
   "source": [
    "print(np.random.rand(10) ) # (pseudo)random (uniformly distributed) number vector\n",
    "\n",
    "print(np.random.rand(3, 3) ) # (pseudo)random (uniformly distributed) number 2d-array"
   ]
  },
  {
   "cell_type": "code",
   "execution_count": 8,
   "metadata": {},
   "outputs": [
    {
     "name": "stdout",
     "output_type": "stream",
     "text": [
      "[-0.01010281 -1.20077807 -0.4702973   0.27223269  0.42161409  0.28567025]\n",
      "[[ 0.50785083 -1.16982011]\n",
      " [-1.44057215 -1.23965709]]\n"
     ]
    }
   ],
   "source": [
    "print(np.random.randn(6) ) # (pseudo)random (normally distributed) number vector\n",
    "\n",
    "print(np.random.randn(2, 2) ) # (pseudo)random (normally distributed) number 2d-array"
   ]
  },
  {
   "cell_type": "markdown",
   "metadata": {},
   "source": [
    "#### Element-wise operations"
   ]
  },
  {
   "cell_type": "code",
   "execution_count": 9,
   "metadata": {},
   "outputs": [
    {
     "name": "stdout",
     "output_type": "stream",
     "text": [
      "[ 2  4  6  8 10 12]\n",
      "[3 4 5 6 7 8]\n",
      "[ 1  4  9 16 25 36]\n"
     ]
    }
   ],
   "source": [
    "# math operations work with arrays\n",
    "print(a * 2) # scalar multiplication\n",
    "print(a + 2) # scalar summation\n",
    "print(a**2) # exponentiation"
   ]
  },
  {
   "cell_type": "markdown",
   "metadata": {},
   "source": [
    "#### Pairwise operations"
   ]
  },
  {
   "cell_type": "code",
   "execution_count": 10,
   "metadata": {},
   "outputs": [
    {
     "name": "stdout",
     "output_type": "stream",
     "text": [
      "a = [1 2 3 4 5 6]\n",
      "b = [3 4 5 6 7 8]\n",
      "b + a = [ 4  6  8 10 12 14]\n",
      "b - a = [2 2 2 2 2 2]\n",
      "b * a = [ 3  8 15 24 35 48]\n",
      "(a,b) =  133\n",
      "(a,b) =  133\n"
     ]
    }
   ],
   "source": [
    "b = 2 + a\n",
    "print(\"a = {}\".format(a))\n",
    "print(\"b = {}\".format(b))\n",
    "print(\"b + a = {}\".format(b + a)) # vector pairwise summation\n",
    "print(\"b - a = {}\".format(b - a)) # vector pairwise subtraction\n",
    "print(\"b * a = {}\".format(b * a)) # vector pairwise multiplication\n",
    "\n",
    "print(\"(a,b) = \", np.inner(b,a)) # inner product\n",
    "print(\"(a,b) = \", sum(b*a)) # inner product (home edition)"
   ]
  },
  {
   "cell_type": "markdown",
   "metadata": {},
   "source": [
    "#### Matrix operations"
   ]
  },
  {
   "cell_type": "code",
   "execution_count": 11,
   "metadata": {},
   "outputs": [
    {
     "name": "stdout",
     "output_type": "stream",
     "text": [
      "[[1. 1. 1.]\n",
      " [1. 1. 1.]\n",
      " [1. 1. 1.]\n",
      " [1. 1. 1.]\n",
      " [1. 1. 1.]\n",
      " [1. 1. 1.]]\n",
      "original matrix dimensions = (6, 3)\n",
      "[[1. 1. 1. 1. 1. 1.]\n",
      " [1. 1. 1. 1. 1. 1.]\n",
      " [1. 1. 1. 1. 1. 1.]]\n",
      "original matrix dimensions = (3, 6)\n"
     ]
    }
   ],
   "source": [
    "# original matrix (6 rows x 3 columns)\n",
    "print(ones_2d)\n",
    "print(\"original matrix dimensions = {}\".format(ones_2d.shape) )\n",
    "\n",
    "# transposed matrix (3 rows x 6 columns)\n",
    "print(np.transpose(ones_2d))\n",
    "print(\"original matrix dimensions = {}\".format(np.transpose(ones_2d).shape) )"
   ]
  },
  {
   "cell_type": "code",
   "execution_count": 12,
   "metadata": {},
   "outputs": [
    {
     "name": "stdout",
     "output_type": "stream",
     "text": [
      "[[ 1  2  4]\n",
      " [ 1  3  9]\n",
      " [ 1  4 16]]\n"
     ]
    }
   ],
   "source": [
    "vandermonde = np.array([[1, 2, 2**2], [1, 3, 3**2], [1, 4, 4**2]]) # Vandermonde matrix\n",
    "print(vandermonde)"
   ]
  },
  {
   "cell_type": "code",
   "execution_count": 13,
   "metadata": {},
   "outputs": [
    {
     "name": "stdout",
     "output_type": "stream",
     "text": [
      "[[ 6.  -8.   3. ]\n",
      " [-3.5  6.  -2.5]\n",
      " [ 0.5 -1.   0.5]]\n"
     ]
    }
   ],
   "source": [
    "vandermonde_inv = np.linalg.inv(vandermonde) # inverse Vandermonde matrix\n",
    "print(vandermonde_inv)"
   ]
  },
  {
   "cell_type": "code",
   "execution_count": 14,
   "metadata": {},
   "outputs": [
    {
     "name": "stdout",
     "output_type": "stream",
     "text": [
      "[[1. 0. 0.]\n",
      " [0. 1. 0.]\n",
      " [0. 0. 1.]]\n"
     ]
    }
   ],
   "source": [
    "print(np.matmul(vandermonde, vandermonde_inv)) # matrix multiplication"
   ]
  },
  {
   "cell_type": "code",
   "execution_count": 15,
   "metadata": {},
   "outputs": [
    {
     "name": "stdout",
     "output_type": "stream",
     "text": [
      "16\n"
     ]
    }
   ],
   "source": [
    "print(np.max(vandermonde))"
   ]
  }
 ],
 "metadata": {
  "interpreter": {
   "hash": "2cda5e89d300e6d5fb6b34b6e3491144d729dc598c3843ce8d389a05c36c4101"
  },
  "kernelspec": {
   "display_name": "Python 3.8.10 64-bit ('venv': venv)",
   "name": "python3"
  },
  "language_info": {
   "codemirror_mode": {
    "name": "ipython",
    "version": 3
   },
   "file_extension": ".py",
   "mimetype": "text/x-python",
   "name": "python",
   "nbconvert_exporter": "python",
   "pygments_lexer": "ipython3",
   "version": "3.8.10"
  },
  "orig_nbformat": 4
 },
 "nbformat": 4,
 "nbformat_minor": 2
}
