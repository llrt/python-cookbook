{
 "cells": [
  {
   "cell_type": "code",
   "execution_count": 1,
   "metadata": {},
   "outputs": [],
   "source": [
    "import numpy as np # by convention, \"np\" alias is used"
   ]
  },
  {
   "cell_type": "markdown",
   "metadata": {},
   "source": [
    "### Arrays"
   ]
  },
  {
   "cell_type": "markdown",
   "metadata": {},
   "source": [
    "#### Initialization"
   ]
  },
  {
   "cell_type": "code",
   "execution_count": 30,
   "metadata": {},
   "outputs": [
    {
     "name": "stdout",
     "output_type": "stream",
     "text": [
      "[1 2 3 4 5 6]\n",
      "(6,)\n",
      "[[ 1  2  4]\n",
      " [ 1  3  9]\n",
      " [ 1  4 16]]\n"
     ]
    }
   ],
   "source": [
    "# array creation can be done with list initialization\n",
    "a = np.array([1, 2, 3, 4, 5, 6]) # 1-d array (vector) \n",
    "print(a)\n",
    "print(a.shape) # array dimensions\n",
    "\n",
    "a2 = np.array([[1, 2, 2**2], [1, 3, 3**2], [1, 4, 4**2]]) # 2-d array is initialized with list of lists\n",
    "print(a2)"
   ]
  },
  {
   "cell_type": "code",
   "execution_count": 31,
   "metadata": {},
   "outputs": [
    {
     "name": "stdout",
     "output_type": "stream",
     "text": [
      "[0. 0. 0. 0. 0. 0.]\n",
      "[1. 1. 1. 1. 1. 1.]\n"
     ]
    }
   ],
   "source": [
    "zeros_1d = np.zeros((6,)) # iniialize vector with zeroes\n",
    "ones_1d = np.ones((6,)) # initialize vector with ones\n",
    "print(zeros_1d)\n",
    "print(ones_1d)"
   ]
  },
  {
   "cell_type": "code",
   "execution_count": 32,
   "metadata": {},
   "outputs": [
    {
     "name": "stdout",
     "output_type": "stream",
     "text": [
      "[[0. 0. 0.]\n",
      " [0. 0. 0.]\n",
      " [0. 0. 0.]\n",
      " [0. 0. 0.]\n",
      " [0. 0. 0.]\n",
      " [0. 0. 0.]]\n",
      "[[1. 1. 1.]\n",
      " [1. 1. 1.]\n",
      " [1. 1. 1.]\n",
      " [1. 1. 1.]\n",
      " [1. 1. 1.]\n",
      " [1. 1. 1.]]\n"
     ]
    }
   ],
   "source": [
    "zeros_2d = np.zeros((6,3)) # iniialize 2-d array with zeroes\n",
    "ones_2d = np.ones((6,3)) # initialize 2-d array with ones\n",
    "print(zeros_2d)\n",
    "print(ones_2d)"
   ]
  },
  {
   "cell_type": "code",
   "execution_count": 37,
   "metadata": {},
   "outputs": [
    {
     "data": {
      "text/plain": [
       "array([ 0,  1,  2,  3,  4,  5,  6,  7,  8,  9, 10, 11, 12, 13, 14, 15, 16,\n",
       "       17, 18, 19, 20, 21, 22, 23, 24, 25, 26, 27, 28, 29])"
      ]
     },
     "execution_count": 37,
     "metadata": {},
     "output_type": "execute_result"
    }
   ],
   "source": [
    "np.arange(30) # integer range vector"
   ]
  },
  {
   "cell_type": "code",
   "execution_count": 34,
   "metadata": {},
   "outputs": [
    {
     "data": {
      "text/plain": [
       "array([ 0.,  5., 10., 15., 20.])"
      ]
     },
     "execution_count": 34,
     "metadata": {},
     "output_type": "execute_result"
    }
   ],
   "source": [
    "np.linspace(0, 20, num=5) # linearly spaced vector"
   ]
  },
  {
   "cell_type": "code",
   "execution_count": 49,
   "metadata": {},
   "outputs": [
    {
     "name": "stdout",
     "output_type": "stream",
     "text": [
      "[0.50648289 0.18571168 0.15217123 0.63558561 0.88928209 0.21187429\n",
      " 0.42554266 0.48929528 0.66153358 0.38749289]\n",
      "[[0.07564385 0.25048015 0.47951731]\n",
      " [0.38365987 0.8767678  0.8885268 ]\n",
      " [0.40250816 0.42960846 0.50605994]]\n"
     ]
    }
   ],
   "source": [
    "print(np.random.rand(10) ) # (pseudo)random (uniformly distributed) number vector\n",
    "\n",
    "print(np.random.rand(3, 3) ) # (pseudo)random (uniformly distributed) number 2d-array"
   ]
  },
  {
   "cell_type": "code",
   "execution_count": 47,
   "metadata": {},
   "outputs": [
    {
     "name": "stdout",
     "output_type": "stream",
     "text": [
      "[-0.8030791  -2.69349585  1.24204339 -0.85082059 -1.00291293  1.11442083]\n",
      "[[ 0.82524885  0.15745778]\n",
      " [-0.1185536   0.59962207]]\n"
     ]
    }
   ],
   "source": [
    "print(np.random.randn(6) ) # (pseudo)random (normally distributed) number vector\n",
    "\n",
    "print(np.random.randn(2, 2) ) # (pseudo)random (normally distributed) number 2d-array"
   ]
  },
  {
   "cell_type": "markdown",
   "metadata": {},
   "source": [
    "#### Element-wise operations"
   ]
  },
  {
   "cell_type": "code",
   "execution_count": 15,
   "metadata": {},
   "outputs": [
    {
     "name": "stdout",
     "output_type": "stream",
     "text": [
      "[ 2  4  6  8 10 12]\n",
      "[3 4 5 6 7 8]\n",
      "[ 1  4  9 16 25 36]\n"
     ]
    }
   ],
   "source": [
    "# math operations work with arrays\n",
    "print(a * 2) # scalar multiplication\n",
    "print(a + 2) # scalar summation\n",
    "print(a**2) # exponentiation"
   ]
  },
  {
   "cell_type": "markdown",
   "metadata": {},
   "source": [
    "#### Pairwise operations"
   ]
  },
  {
   "cell_type": "code",
   "execution_count": 24,
   "metadata": {},
   "outputs": [
    {
     "name": "stdout",
     "output_type": "stream",
     "text": [
      "a = [1 2 3 4 5 6]\n",
      "b = [3 4 5 6 7 8]\n",
      "b + a = [ 4  6  8 10 12 14]\n",
      "b - a = [2 2 2 2 2 2]\n",
      "b * a = [ 3  8 15 24 35 48]\n",
      "(a,b) =  133\n",
      "(a,b) =  133\n"
     ]
    }
   ],
   "source": [
    "b = 2 + a\n",
    "print(\"a = {}\".format(a))\n",
    "print(\"b = {}\".format(b))\n",
    "print(\"b + a = {}\".format(b + a)) # vector pairwise summation\n",
    "print(\"b - a = {}\".format(b - a)) # vector pairwise subtraction\n",
    "print(\"b * a = {}\".format(b * a)) # vector pairwise multiplication\n",
    "\n",
    "print(\"(a,b) = \", np.inner(b,a)) # inner product\n",
    "print(\"(a,b) = \", sum(b*a)) # inner product (home edition)"
   ]
  },
  {
   "cell_type": "code",
   "execution_count": null,
   "metadata": {},
   "outputs": [],
   "source": []
  }
 ],
 "metadata": {
  "interpreter": {
   "hash": "2cda5e89d300e6d5fb6b34b6e3491144d729dc598c3843ce8d389a05c36c4101"
  },
  "kernelspec": {
   "display_name": "Python 3.8.10 64-bit ('venv': venv)",
   "name": "python3"
  },
  "language_info": {
   "codemirror_mode": {
    "name": "ipython",
    "version": 3
   },
   "file_extension": ".py",
   "mimetype": "text/x-python",
   "name": "python",
   "nbconvert_exporter": "python",
   "pygments_lexer": "ipython3",
   "version": "3.8.10"
  },
  "orig_nbformat": 4
 },
 "nbformat": 4,
 "nbformat_minor": 2
}
